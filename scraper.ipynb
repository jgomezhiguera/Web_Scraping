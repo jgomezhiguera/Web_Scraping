{
 "cells": [
  {
   "cell_type": "code",
   "execution_count": 2,
   "metadata": {},
   "outputs": [],
   "source": [
    "import requests as rq\n",
    "from bs4 import BeautifulSoup\n",
    "from datetime import datetime\n",
    "import sys\n",
    "reload(sys)\n",
    "sys.setdefaultencoding('utf8')\n",
    "page = rq.get(\"https://www.exito.com/browse?Ntt=0f3r7a2_d3l_d1a&No=0&Nrpp=2000\")\n",
    "soup = BeautifulSoup(page.content)\n",
    "\n",
    "objectives = soup.find_all('div', {\"class\" : \"col-xs-8 col-sm-12 col-data\"})\n",
    "\n",
    "filename = \"offers.csv\"\n",
    "f = open(filename, \"a\")\n",
    "headers = \"product; brand; current_price; offer_date\\n\"\n",
    "f.write(headers)\n",
    "\n",
    "for objective in objectives:\n",
    "    product = objective.findAll(\"span\", {\"class\" : \"name\"})[0].text.strip()\n",
    "    brand = objective.findAll(\"span\", {\"class\": \"brand\"})[0].text.strip()\n",
    "    price = objective.findAll(\"span\", {\"class\": \"money\"})[0].text.strip()\n",
    "    offer_date = datetime.now().strftime(\"%Y-%m-%d\")\n",
    "\n",
    "    print \"Product: \" + product\n",
    "    print \"Brand: \" + brand\n",
    "    print \"Offer's price: \" + price\n",
    "    print \"Offer's date: \" + offer_date\n",
    "\n",
    "    f.write(product + \";\" + brand + \";\" + price + \";\" + offer_date  + \"\\n\")\n",
    "\n",
    "f.close()"
   ]
  },
  {
   "cell_type": "code",
   "execution_count": null,
   "metadata": {},
   "outputs": [],
   "source": []
  }
 ],
 "metadata": {
  "kernelspec": {
   "display_name": "Python 2",
   "language": "python",
   "name": "python2"
  },
  "language_info": {
   "codemirror_mode": {
    "name": "ipython",
    "version": 2
   },
   "file_extension": ".py",
   "mimetype": "text/x-python",
   "name": "python",
   "nbconvert_exporter": "python",
   "pygments_lexer": "ipython2",
   "version": "2.7.15"
  }
 },
 "nbformat": 4,
 "nbformat_minor": 2
}
